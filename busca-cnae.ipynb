{
 "cells": [
  {
   "cell_type": "code",
   "execution_count": 3,
   "metadata": {},
   "outputs": [],
   "source": [
    "import pandas as pd\n",
    "import urllib, json\n",
    "import requests\n",
    "import json\n",
    "import time\n",
    "\n",
    "from selenium.webdriver.common.by import By"
   ]
  },
  {
   "cell_type": "code",
   "execution_count": 2,
   "metadata": {},
   "outputs": [
    {
     "name": "stderr",
     "output_type": "stream",
     "text": [
      "C:\\Users\\karin\\AppData\\Local\\Temp\\ipykernel_21204\\2178551780.py:4: DeprecationWarning: executable_path has been deprecated, please pass in a Service object\n",
      "  driver = webdriver.Chrome(executable_path=DRIVER_PATH)\n"
     ]
    }
   ],
   "source": [
    "from selenium import webdriver\n",
    "\n",
    "DRIVER_PATH = '/path/to/chromedriver'\n",
    "driver = webdriver.Chrome(executable_path=DRIVER_PATH)\n",
    "driver.get('https://compras.dados.gov.br/fornecedores/v1/fornecedores.xml?id_cnae=4530703')"
   ]
  },
  {
   "cell_type": "code",
   "execution_count": 20,
   "metadata": {},
   "outputs": [],
   "source": [
    "resources = driver.find_elements(By.CLASS_NAME, 'html-tag')"
   ]
  },
  {
   "cell_type": "code",
   "execution_count": 22,
   "metadata": {},
   "outputs": [
    {
     "name": "stdout",
     "output_type": "stream",
     "text": [
      "14509\n"
     ]
    }
   ],
   "source": [
    "print(len(resources))"
   ]
  },
  {
   "cell_type": "code",
   "execution_count": 29,
   "metadata": {},
   "outputs": [
    {
     "data": {
      "text/plain": [
       "<selenium.webdriver.remote.webelement.WebElement (session=\"39fbb3c271bee10638fcf2486da3caf9\", element=\"6721e010-21df-45aa-8b71-36725569d8ee\")>"
      ]
     },
     "execution_count": 29,
     "metadata": {},
     "output_type": "execute_result"
    }
   ],
   "source": [
    "resources[1]"
   ]
  },
  {
   "cell_type": "code",
   "execution_count": 31,
   "metadata": {},
   "outputs": [
    {
     "name": "stdout",
     "output_type": "stream",
     "text": [
      "5130\n",
      "http://compras.dados.gov.br/fornecedores/v1/fornecedores.xml?id_cnae=4530703\n",
      "/fornecedores/v1/fornecedores.xml?id_cnae=4530703&offset=0\n",
      "/fornecedores/v1/fornecedores.xml?id_cnae=4530703&offset=500\n",
      "/fornecedores/id/fornecedor_pj/00001388000145\n",
      "/fornecedores/id/municipio/97012\n",
      "/fornecedores/id/natureza_juridica/48\n",
      "/fornecedores/id/porte_empresa/2\n",
      "/fornecedores/id/cnae/4530703\n"
     ]
    }
   ],
   "source": [
    "for i in range(20):\n",
    "    try:\n",
    "        print(resources[i].find_elements(By.CLASS_NAME, 'html-attribute-value')[0].text)\n",
    "    except:\n",
    "        pass"
   ]
  },
  {
   "cell_type": "code",
   "execution_count": 18,
   "metadata": {},
   "outputs": [
    {
     "data": {
      "text/plain": [
       "'href=\"http://compras.dados.gov.br/fornecedores/v1/fornecedores.xml?id_cnae=4530703\"'"
      ]
     },
     "execution_count": 18,
     "metadata": {},
     "output_type": "execute_result"
    }
   ],
   "source": [
    "resources[2].text"
   ]
  },
  {
   "cell_type": "code",
   "execution_count": null,
   "metadata": {},
   "outputs": [],
   "source": []
  }
 ],
 "metadata": {
  "kernelspec": {
   "display_name": "Python 3",
   "language": "python",
   "name": "python3"
  },
  "language_info": {
   "codemirror_mode": {
    "name": "ipython",
    "version": 3
   },
   "file_extension": ".py",
   "mimetype": "text/x-python",
   "name": "python",
   "nbconvert_exporter": "python",
   "pygments_lexer": "ipython3",
   "version": "3.10.7 (tags/v3.10.7:6cc6b13, Sep  5 2022, 14:08:36) [MSC v.1933 64 bit (AMD64)]"
  },
  "orig_nbformat": 4,
  "vscode": {
   "interpreter": {
    "hash": "24f84eff82aa026bd72436630d8631656d47f4a2055ffb3dd69dc1568992ef1a"
   }
  }
 },
 "nbformat": 4,
 "nbformat_minor": 2
}
