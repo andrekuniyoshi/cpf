{
 "cells": [
  {
   "cell_type": "code",
   "execution_count": 1,
   "metadata": {},
   "outputs": [],
   "source": [
    "import pandas as pd\n",
    "from gerar_cpfs import gerador_de_cpfs"
   ]
  },
  {
   "attachments": {},
   "cell_type": "markdown",
   "metadata": {},
   "source": [
    "# Importing data"
   ]
  },
  {
   "cell_type": "code",
   "execution_count": 11,
   "metadata": {},
   "outputs": [],
   "source": [
    "bacen_df = pd.read_csv('data/bacen-remuneracao.csv', encoding='unicode_escape', sep=';')"
   ]
  },
  {
   "cell_type": "code",
   "execution_count": 12,
   "metadata": {},
   "outputs": [
    {
     "data": {
      "text/html": [
       "<div>\n",
       "<style scoped>\n",
       "    .dataframe tbody tr th:only-of-type {\n",
       "        vertical-align: middle;\n",
       "    }\n",
       "\n",
       "    .dataframe tbody tr th {\n",
       "        vertical-align: top;\n",
       "    }\n",
       "\n",
       "    .dataframe thead th {\n",
       "        text-align: right;\n",
       "    }\n",
       "</style>\n",
       "<table border=\"1\" class=\"dataframe\">\n",
       "  <thead>\n",
       "    <tr style=\"text-align: right;\">\n",
       "      <th></th>\n",
       "      <th>ANO</th>\n",
       "      <th>MES</th>\n",
       "      <th>Id_SERVIDOR_PORTAL</th>\n",
       "      <th>CPF</th>\n",
       "      <th>NOME</th>\n",
       "      <th>REMUNERAÇÃO BÁSICA BRUTA (R$)</th>\n",
       "      <th>REMUNERAÇÃO BÁSICA BRUTA (U$)</th>\n",
       "      <th>ABATE-TETO (R$)</th>\n",
       "      <th>ABATE-TETO (U$)</th>\n",
       "      <th>GRATIFICAÇÃO NATALINA (R$)</th>\n",
       "      <th>...</th>\n",
       "      <th>REMUNERAÇÃO APÓS DEDUÇÕES OBRIGATÓRIAS (R$)</th>\n",
       "      <th>REMUNERAÇÃO APÓS DEDUÇÕES OBRIGATÓRIAS (U$)</th>\n",
       "      <th>VERBAS INDENIZATÓRIAS REGISTRADAS EM SISTEMAS DE PESSOAL - CIVIL (R$)(*)</th>\n",
       "      <th>VERBAS INDENIZATÓRIAS REGISTRADAS EM SISTEMAS DE PESSOAL - CIVIL (U$)(*)</th>\n",
       "      <th>VERBAS INDENIZATÓRIAS REGISTRADAS EM SISTEMAS DE PESSOAL - MILITAR (R$)(*)</th>\n",
       "      <th>VERBAS INDENIZATÓRIAS REGISTRADAS EM SISTEMAS DE PESSOAL - MILITAR (U$)(*)</th>\n",
       "      <th>VERBAS INDENIZATÓRIAS PROGRAMA DESLIGAMENTO VOLUNTÁRIO  MP 792/2017 (R$)</th>\n",
       "      <th>VERBAS INDENIZATÓRIAS PROGRAMA DESLIGAMENTO VOLUNTÁRIO  MP 792/2017 (U$)</th>\n",
       "      <th>TOTAL DE VERBAS INDENIZATÓRIAS (R$)(*)</th>\n",
       "      <th>TOTAL DE VERBAS INDENIZATÓRIAS (U$)(*)</th>\n",
       "    </tr>\n",
       "  </thead>\n",
       "  <tbody>\n",
       "    <tr>\n",
       "      <th>0</th>\n",
       "      <td>2022</td>\n",
       "      <td>9.0</td>\n",
       "      <td>78513436.0</td>\n",
       "      <td>***.161.491-**</td>\n",
       "      <td>ABADIA MARCIA CUNHA</td>\n",
       "      <td>25267,50</td>\n",
       "      <td>0,00</td>\n",
       "      <td>0,00</td>\n",
       "      <td>0,00</td>\n",
       "      <td>0,00</td>\n",
       "      <td>...</td>\n",
       "      <td>22343,89</td>\n",
       "      <td>0,00</td>\n",
       "      <td>0,00</td>\n",
       "      <td>0,00</td>\n",
       "      <td>0,00</td>\n",
       "      <td>0,00</td>\n",
       "      <td>0,00</td>\n",
       "      <td>0,00</td>\n",
       "      <td>0,00</td>\n",
       "      <td>0,00</td>\n",
       "    </tr>\n",
       "    <tr>\n",
       "      <th>1</th>\n",
       "      <td>2022</td>\n",
       "      <td>9.0</td>\n",
       "      <td>79807090.0</td>\n",
       "      <td>***.297.631-**</td>\n",
       "      <td>ABDIAS CASSIO MARROCOS GOMES</td>\n",
       "      <td>12514,58</td>\n",
       "      <td>0,00</td>\n",
       "      <td>0,00</td>\n",
       "      <td>0,00</td>\n",
       "      <td>0,00</td>\n",
       "      <td>...</td>\n",
       "      <td>9366,41</td>\n",
       "      <td>0,00</td>\n",
       "      <td>0,00</td>\n",
       "      <td>0,00</td>\n",
       "      <td>0,00</td>\n",
       "      <td>0,00</td>\n",
       "      <td>0,00</td>\n",
       "      <td>0,00</td>\n",
       "      <td>0,00</td>\n",
       "      <td>0,00</td>\n",
       "    </tr>\n",
       "    <tr>\n",
       "      <th>2</th>\n",
       "      <td>2022</td>\n",
       "      <td>9.0</td>\n",
       "      <td>76916965.0</td>\n",
       "      <td>***.895.388-**</td>\n",
       "      <td>ABDIEL ANDRIOLO DE ANDRADE</td>\n",
       "      <td>26138,79</td>\n",
       "      <td>0,00</td>\n",
       "      <td>0,00</td>\n",
       "      <td>0,00</td>\n",
       "      <td>0,00</td>\n",
       "      <td>...</td>\n",
       "      <td>18156,09</td>\n",
       "      <td>0,00</td>\n",
       "      <td>0,00</td>\n",
       "      <td>0,00</td>\n",
       "      <td>0,00</td>\n",
       "      <td>0,00</td>\n",
       "      <td>0,00</td>\n",
       "      <td>0,00</td>\n",
       "      <td>0,00</td>\n",
       "      <td>0,00</td>\n",
       "    </tr>\n",
       "    <tr>\n",
       "      <th>3</th>\n",
       "      <td>2022</td>\n",
       "      <td>9.0</td>\n",
       "      <td>82912658.0</td>\n",
       "      <td>***.983.931-**</td>\n",
       "      <td>ABDON LOPES DE MENEZES</td>\n",
       "      <td>12514,58</td>\n",
       "      <td>0,00</td>\n",
       "      <td>0,00</td>\n",
       "      <td>0,00</td>\n",
       "      <td>0,00</td>\n",
       "      <td>...</td>\n",
       "      <td>9890,00</td>\n",
       "      <td>0,00</td>\n",
       "      <td>0,00</td>\n",
       "      <td>0,00</td>\n",
       "      <td>0,00</td>\n",
       "      <td>0,00</td>\n",
       "      <td>0,00</td>\n",
       "      <td>0,00</td>\n",
       "      <td>0,00</td>\n",
       "      <td>0,00</td>\n",
       "    </tr>\n",
       "    <tr>\n",
       "      <th>4</th>\n",
       "      <td>2022</td>\n",
       "      <td>9.0</td>\n",
       "      <td>77409748.0</td>\n",
       "      <td>***.210.784-**</td>\n",
       "      <td>ABEL AMBROSIO DA SILVA FILHO</td>\n",
       "      <td>23568,22</td>\n",
       "      <td>0,00</td>\n",
       "      <td>0,00</td>\n",
       "      <td>0,00</td>\n",
       "      <td>0,00</td>\n",
       "      <td>...</td>\n",
       "      <td>16581,60</td>\n",
       "      <td>0,00</td>\n",
       "      <td>0,00</td>\n",
       "      <td>0,00</td>\n",
       "      <td>0,00</td>\n",
       "      <td>0,00</td>\n",
       "      <td>0,00</td>\n",
       "      <td>0,00</td>\n",
       "      <td>0,00</td>\n",
       "      <td>0,00</td>\n",
       "    </tr>\n",
       "  </tbody>\n",
       "</table>\n",
       "<p>5 rows × 39 columns</p>\n",
       "</div>"
      ],
      "text/plain": [
       "    ANO  MES  Id_SERVIDOR_PORTAL             CPF  \\\n",
       "0  2022  9.0          78513436.0  ***.161.491-**   \n",
       "1  2022  9.0          79807090.0  ***.297.631-**   \n",
       "2  2022  9.0          76916965.0  ***.895.388-**   \n",
       "3  2022  9.0          82912658.0  ***.983.931-**   \n",
       "4  2022  9.0          77409748.0  ***.210.784-**   \n",
       "\n",
       "                           NOME REMUNERAÇÃO BÁSICA BRUTA (R$)  \\\n",
       "0           ABADIA MARCIA CUNHA                      25267,50   \n",
       "1  ABDIAS CASSIO MARROCOS GOMES                      12514,58   \n",
       "2    ABDIEL ANDRIOLO DE ANDRADE                      26138,79   \n",
       "3        ABDON LOPES DE MENEZES                      12514,58   \n",
       "4  ABEL AMBROSIO DA SILVA FILHO                      23568,22   \n",
       "\n",
       "  REMUNERAÇÃO BÁSICA BRUTA (U$) ABATE-TETO (R$) ABATE-TETO (U$)  \\\n",
       "0                          0,00            0,00            0,00   \n",
       "1                          0,00            0,00            0,00   \n",
       "2                          0,00            0,00            0,00   \n",
       "3                          0,00            0,00            0,00   \n",
       "4                          0,00            0,00            0,00   \n",
       "\n",
       "  GRATIFICAÇÃO NATALINA (R$)  ... REMUNERAÇÃO APÓS DEDUÇÕES OBRIGATÓRIAS (R$)  \\\n",
       "0                       0,00  ...                                    22343,89   \n",
       "1                       0,00  ...                                     9366,41   \n",
       "2                       0,00  ...                                    18156,09   \n",
       "3                       0,00  ...                                     9890,00   \n",
       "4                       0,00  ...                                    16581,60   \n",
       "\n",
       "  REMUNERAÇÃO APÓS DEDUÇÕES OBRIGATÓRIAS (U$)  \\\n",
       "0                                        0,00   \n",
       "1                                        0,00   \n",
       "2                                        0,00   \n",
       "3                                        0,00   \n",
       "4                                        0,00   \n",
       "\n",
       "  VERBAS INDENIZATÓRIAS REGISTRADAS EM SISTEMAS DE PESSOAL - CIVIL (R$)(*)  \\\n",
       "0                                               0,00                         \n",
       "1                                               0,00                         \n",
       "2                                               0,00                         \n",
       "3                                               0,00                         \n",
       "4                                               0,00                         \n",
       "\n",
       "  VERBAS INDENIZATÓRIAS REGISTRADAS EM SISTEMAS DE PESSOAL - CIVIL (U$)(*)  \\\n",
       "0                                               0,00                         \n",
       "1                                               0,00                         \n",
       "2                                               0,00                         \n",
       "3                                               0,00                         \n",
       "4                                               0,00                         \n",
       "\n",
       "  VERBAS INDENIZATÓRIAS REGISTRADAS EM SISTEMAS DE PESSOAL - MILITAR (R$)(*)  \\\n",
       "0                                               0,00                           \n",
       "1                                               0,00                           \n",
       "2                                               0,00                           \n",
       "3                                               0,00                           \n",
       "4                                               0,00                           \n",
       "\n",
       "  VERBAS INDENIZATÓRIAS REGISTRADAS EM SISTEMAS DE PESSOAL - MILITAR (U$)(*)  \\\n",
       "0                                               0,00                           \n",
       "1                                               0,00                           \n",
       "2                                               0,00                           \n",
       "3                                               0,00                           \n",
       "4                                               0,00                           \n",
       "\n",
       "  VERBAS INDENIZATÓRIAS PROGRAMA DESLIGAMENTO VOLUNTÁRIO  MP 792/2017 (R$)  \\\n",
       "0                                               0,00                          \n",
       "1                                               0,00                          \n",
       "2                                               0,00                          \n",
       "3                                               0,00                          \n",
       "4                                               0,00                          \n",
       "\n",
       "  VERBAS INDENIZATÓRIAS PROGRAMA DESLIGAMENTO VOLUNTÁRIO  MP 792/2017 (U$)  \\\n",
       "0                                               0,00                          \n",
       "1                                               0,00                          \n",
       "2                                               0,00                          \n",
       "3                                               0,00                          \n",
       "4                                               0,00                          \n",
       "\n",
       "  TOTAL DE VERBAS INDENIZATÓRIAS (R$)(*)  \\\n",
       "0                                   0,00   \n",
       "1                                   0,00   \n",
       "2                                   0,00   \n",
       "3                                   0,00   \n",
       "4                                   0,00   \n",
       "\n",
       "  TOTAL DE VERBAS INDENIZATÓRIAS (U$)(*)  \n",
       "0                                   0,00  \n",
       "1                                   0,00  \n",
       "2                                   0,00  \n",
       "3                                   0,00  \n",
       "4                                   0,00  \n",
       "\n",
       "[5 rows x 39 columns]"
      ]
     },
     "execution_count": 12,
     "metadata": {},
     "output_type": "execute_result"
    }
   ],
   "source": [
    "bacen_df.head()"
   ]
  },
  {
   "cell_type": "code",
   "execution_count": 13,
   "metadata": {},
   "outputs": [
    {
     "data": {
      "text/plain": [
       "0       ***.161.491-**\n",
       "1       ***.297.631-**\n",
       "2       ***.895.388-**\n",
       "3       ***.983.931-**\n",
       "4       ***.210.784-**\n",
       "             ...      \n",
       "5384    ***.454.201-**\n",
       "5385    ***.828.526-**\n",
       "5386    ***.113.787-**\n",
       "5387    ***.805.121-**\n",
       "5388               NaN\n",
       "Name: CPF, Length: 5389, dtype: object"
      ]
     },
     "execution_count": 13,
     "metadata": {},
     "output_type": "execute_result"
    }
   ],
   "source": [
    "bacen_df.CPF"
   ]
  },
  {
   "cell_type": "code",
   "execution_count": 14,
   "metadata": {},
   "outputs": [],
   "source": [
    "gerador_de_cpfs = gerador_de_cpfs(nums_meio = 161491)\n",
    "cpfs = gerador_de_cpfs.gerar_cpfs()"
   ]
  },
  {
   "cell_type": "code",
   "execution_count": 1,
   "metadata": {},
   "outputs": [],
   "source": [
    "from selenium.webdriver.common.by import By\n",
    "from selenium.webdriver.common.keys import Keys"
   ]
  },
  {
   "cell_type": "code",
   "execution_count": 2,
   "metadata": {},
   "outputs": [
    {
     "name": "stderr",
     "output_type": "stream",
     "text": [
      "C:\\Users\\karin\\AppData\\Local\\Temp\\ipykernel_9408\\2638167608.py:4: DeprecationWarning: executable_path has been deprecated, please pass in a Service object\n",
      "  driver = webdriver.Chrome(executable_path=DRIVER_PATH)\n"
     ]
    }
   ],
   "source": [
    "from selenium import webdriver\n",
    "\n",
    "DRIVER_PATH = '/path/to/chromedriver'\n",
    "driver = webdriver.Chrome(executable_path=DRIVER_PATH)\n",
    "driver.get('https://portaldatransparencia.gov.br/servidores/consulta?ordenarPor=nome&direcao=asc')"
   ]
  },
  {
   "cell_type": "code",
   "execution_count": 9,
   "metadata": {},
   "outputs": [],
   "source": [
    "elements = driver.find_elements(By.CLASS_NAME, \"box-tabela-filtro__gaveta\")"
   ]
  },
  {
   "cell_type": "code",
   "execution_count": 14,
   "metadata": {},
   "outputs": [],
   "source": [
    "elements[1].click()"
   ]
  },
  {
   "cell_type": "code",
   "execution_count": 15,
   "metadata": {},
   "outputs": [],
   "source": [
    "insert_text = driver.find_element(By.ID, \"cpf\")"
   ]
  },
  {
   "cell_type": "code",
   "execution_count": 19,
   "metadata": {},
   "outputs": [],
   "source": [
    "insert_text.clear()"
   ]
  },
  {
   "cell_type": "code",
   "execution_count": 20,
   "metadata": {},
   "outputs": [],
   "source": [
    "insert_text.send_keys('38417371885')"
   ]
  },
  {
   "cell_type": "code",
   "execution_count": 42,
   "metadata": {},
   "outputs": [],
   "source": [
    "btn_adicionar = driver.find_elements(By.CLASS_NAME, \"btn-adicionar.btn-gaveta-consultar\")[1]"
   ]
  },
  {
   "cell_type": "code",
   "execution_count": 44,
   "metadata": {},
   "outputs": [],
   "source": [
    "btn_adicionar.click()"
   ]
  },
  {
   "cell_type": "code",
   "execution_count": 51,
   "metadata": {},
   "outputs": [],
   "source": [
    "btn_consultar = driver.find_element(By.CLASS_NAME, \"btn-consultar.btn-filtros-aplicados-consultar\")"
   ]
  },
  {
   "cell_type": "code",
   "execution_count": 52,
   "metadata": {},
   "outputs": [],
   "source": [
    "btn_consultar.click()"
   ]
  },
  {
   "cell_type": "code",
   "execution_count": 53,
   "metadata": {},
   "outputs": [],
   "source": [
    "table_empty = driver.find_element(By.CLASS_NAME, \"dataTables_empty\")"
   ]
  },
  {
   "cell_type": "code",
   "execution_count": 56,
   "metadata": {},
   "outputs": [
    {
     "data": {
      "text/plain": [
       "True"
      ]
     },
     "execution_count": 56,
     "metadata": {},
     "output_type": "execute_result"
    }
   ],
   "source": [
    "table_empty.text == 'Nenhum registro encontrado'"
   ]
  },
  {
   "cell_type": "code",
   "execution_count": null,
   "metadata": {},
   "outputs": [],
   "source": []
  }
 ],
 "metadata": {
  "kernelspec": {
   "display_name": "Python 3.10.7 64-bit",
   "language": "python",
   "name": "python3"
  },
  "language_info": {
   "codemirror_mode": {
    "name": "ipython",
    "version": 3
   },
   "file_extension": ".py",
   "mimetype": "text/x-python",
   "name": "python",
   "nbconvert_exporter": "python",
   "pygments_lexer": "ipython3",
   "version": "3.10.7 (tags/v3.10.7:6cc6b13, Sep  5 2022, 14:08:36) [MSC v.1933 64 bit (AMD64)]"
  },
  "orig_nbformat": 4,
  "vscode": {
   "interpreter": {
    "hash": "24f84eff82aa026bd72436630d8631656d47f4a2055ffb3dd69dc1568992ef1a"
   }
  }
 },
 "nbformat": 4,
 "nbformat_minor": 2
}
